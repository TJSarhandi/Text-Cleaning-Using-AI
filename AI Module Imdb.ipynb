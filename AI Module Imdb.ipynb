{
 "cells": [
  {
   "cell_type": "code",
   "execution_count": 1,
   "id": "c3c4d418",
   "metadata": {},
   "outputs": [
    {
     "data": {
      "text/html": [
       "<div>\n",
       "<style scoped>\n",
       "    .dataframe tbody tr th:only-of-type {\n",
       "        vertical-align: middle;\n",
       "    }\n",
       "\n",
       "    .dataframe tbody tr th {\n",
       "        vertical-align: top;\n",
       "    }\n",
       "\n",
       "    .dataframe thead th {\n",
       "        text-align: right;\n",
       "    }\n",
       "</style>\n",
       "<table border=\"1\" class=\"dataframe\">\n",
       "  <thead>\n",
       "    <tr style=\"text-align: right;\">\n",
       "      <th></th>\n",
       "      <th>review</th>\n",
       "      <th>sentiment</th>\n",
       "    </tr>\n",
       "  </thead>\n",
       "  <tbody>\n",
       "    <tr>\n",
       "      <th>0</th>\n",
       "      <td>One of the other reviewers has mentioned that ...</td>\n",
       "      <td>positive</td>\n",
       "    </tr>\n",
       "    <tr>\n",
       "      <th>1</th>\n",
       "      <td>A wonderful little production. &lt;br /&gt;&lt;br /&gt;The...</td>\n",
       "      <td>positive</td>\n",
       "    </tr>\n",
       "    <tr>\n",
       "      <th>2</th>\n",
       "      <td>I thought this was a wonderful way to spend ti...</td>\n",
       "      <td>positive</td>\n",
       "    </tr>\n",
       "    <tr>\n",
       "      <th>3</th>\n",
       "      <td>Basically there's a family where a little boy ...</td>\n",
       "      <td>negative</td>\n",
       "    </tr>\n",
       "    <tr>\n",
       "      <th>4</th>\n",
       "      <td>Petter Mattei's \"Love in the Time of Money\" is...</td>\n",
       "      <td>positive</td>\n",
       "    </tr>\n",
       "  </tbody>\n",
       "</table>\n",
       "</div>"
      ],
      "text/plain": [
       "                                              review sentiment\n",
       "0  One of the other reviewers has mentioned that ...  positive\n",
       "1  A wonderful little production. <br /><br />The...  positive\n",
       "2  I thought this was a wonderful way to spend ti...  positive\n",
       "3  Basically there's a family where a little boy ...  negative\n",
       "4  Petter Mattei's \"Love in the Time of Money\" is...  positive"
      ]
     },
     "execution_count": 1,
     "metadata": {},
     "output_type": "execute_result"
    }
   ],
   "source": [
    "import pandas as pd\n",
    "from sklearn.feature_extraction.text import CountVectorizer\n",
    "from sklearn.model_selection import train_test_split\n",
    "\n",
    "pd.options.display.max_rows\n",
    "data = pd.read_csv('./IMBD_updated.csv', sep=',')\n",
    "data=data.drop(\"Unnamed: 0\",axis=1)\n",
    "data = data.dropna(subset=['review', 'sentiment'])\n",
    "data = data.head()\n",
    "data"
   ]
  },
  {
   "cell_type": "code",
   "execution_count": 2,
   "id": "f1658577",
   "metadata": {},
   "outputs": [
    {
     "data": {
      "text/html": [
       "<div>\n",
       "<style scoped>\n",
       "    .dataframe tbody tr th:only-of-type {\n",
       "        vertical-align: middle;\n",
       "    }\n",
       "\n",
       "    .dataframe tbody tr th {\n",
       "        vertical-align: top;\n",
       "    }\n",
       "\n",
       "    .dataframe thead th {\n",
       "        text-align: right;\n",
       "    }\n",
       "</style>\n",
       "<table border=\"1\" class=\"dataframe\">\n",
       "  <thead>\n",
       "    <tr style=\"text-align: right;\">\n",
       "      <th></th>\n",
       "      <th>review</th>\n",
       "      <th>sentiment</th>\n",
       "    </tr>\n",
       "  </thead>\n",
       "  <tbody>\n",
       "    <tr>\n",
       "      <th>0</th>\n",
       "      <td>one of the other reviewers has mentioned that ...</td>\n",
       "      <td>positive</td>\n",
       "    </tr>\n",
       "    <tr>\n",
       "      <th>1</th>\n",
       "      <td>a wonderful little production  the filming tec...</td>\n",
       "      <td>positive</td>\n",
       "    </tr>\n",
       "    <tr>\n",
       "      <th>2</th>\n",
       "      <td>i thought this was a wonderful way to spend ti...</td>\n",
       "      <td>positive</td>\n",
       "    </tr>\n",
       "    <tr>\n",
       "      <th>3</th>\n",
       "      <td>basically there s a family where a little boy ...</td>\n",
       "      <td>negative</td>\n",
       "    </tr>\n",
       "    <tr>\n",
       "      <th>4</th>\n",
       "      <td>petter mattei s  love in the time of money  is...</td>\n",
       "      <td>positive</td>\n",
       "    </tr>\n",
       "  </tbody>\n",
       "</table>\n",
       "</div>"
      ],
      "text/plain": [
       "                                              review sentiment\n",
       "0  one of the other reviewers has mentioned that ...  positive\n",
       "1  a wonderful little production  the filming tec...  positive\n",
       "2  i thought this was a wonderful way to spend ti...  positive\n",
       "3  basically there s a family where a little boy ...  negative\n",
       "4  petter mattei s  love in the time of money  is...  positive"
      ]
     },
     "execution_count": 2,
     "metadata": {},
     "output_type": "execute_result"
    }
   ],
   "source": [
    "import re\n",
    "\n",
    "def clean_text(text):\n",
    "    # Remove HTML tags\n",
    "    text = re.sub('<[^>]*>', '', text)\n",
    "    # Remove non-alphabetic characters\n",
    "    text = re.sub('[^a-zA-Z]', ' ', text)\n",
    "    # Convert to lowercase\n",
    "    text = text.lower()\n",
    "    return text\n",
    "\n",
    "# Apply the cleaning function to the text column\n",
    "data['review'] = data['review'].apply(clean_text)\n",
    "data"
   ]
  },
  {
   "cell_type": "code",
   "execution_count": 3,
   "id": "41ab8f47",
   "metadata": {},
   "outputs": [
    {
     "name": "stdout",
     "output_type": "stream",
     "text": [
      "{'reviewers': 256, 'mentioned': 193, 'watching': 352, 'just': 158, 'oz': 213, 'episode': 93, 'll': 174, 'hooked': 139, 'right': 257, 'exactly': 94, 'happened': 134, 'thing': 323, 'struck': 301, 'brutality': 28, 'unflinching': 340, 'scenes': 265, 'violence': 345, 'set': 274, 'word': 363, 'trust': 336, 'faint': 101, 'hearted': 136, 'timid': 329, 'pulls': 243, 'punches': 244, 'regards': 252, 'drugs': 86, 'sex': 276, 'hardcore': 135, 'classic': 42, 'use': 341, 'called': 30, 'nickname': 205, 'given': 118, 'oswald': 212, 'maximum': 190, 'security': 270, 'state': 298, 'penitentary': 218, 'focuses': 110, 'mainly': 181, 'emerald': 89, 'city': 40, 'experimental': 97, 'section': 269, 'prison': 239, 'cells': 35, 'glass': 120, 'fronts': 113, 'face': 99, 'inwards': 151, 'privacy': 240, 'high': 137, 'agenda': 6, 'em': 88, 'home': 138, 'aryans': 15, 'muslims': 201, 'gangstas': 116, 'latinos': 165, 'christians': 39, 'italians': 153, 'irish': 152, 'scuffles': 267, 'death': 63, 'stares': 297, 'dodgy': 82, 'dealings': 62, 'shady': 278, 'agreements': 7, 'far': 104, 'away': 19, 'say': 263, 'main': 180, 'appeal': 12, 'fact': 100, 'goes': 121, 'shows': 281, 'wouldn': 367, 'dare': 59, 'forget': 111, 'pretty': 237, 'pictures': 224, 'painted': 214, 'mainstream': 182, 'audiences': 16, 'charm': 37, 'romance': 259, 'doesn': 83, 'mess': 194, 'saw': 262, 'nasty': 202, 'surreal': 310, 'couldn': 56, 'ready': 246, 'watched': 351, 'developed': 69, 'taste': 314, 'got': 124, 'accustomed': 0, 'levels': 167, 'graphic': 125, 'injustice': 147, 'crooked': 57, 'guards': 130, 'sold': 289, 'nickel': 204, 'inmates': 148, 'kill': 160, 'order': 210, 'mannered': 185, 'middle': 196, 'class': 41, 'turned': 337, 'bitches': 24, 'lack': 164, 'street': 300, 'skills': 286, 'experience': 96, 'comfortable': 48, 'uncomfortable': 339, 'viewing': 344, 'thats': 320, 'touch': 332, 'darker': 60, 'wonderful': 361, 'little': 172, 'production': 241, 'filming': 108, 'technique': 315, 'unassuming': 338, 'old': 208, 'time': 328, 'bbc': 21, 'fashion': 105, 'gives': 119, 'comforting': 49, 'discomforting': 80, 'sense': 271, 'realism': 248, 'entire': 91, 'piece': 225, 'actors': 3, 'extremely': 98, 'chosen': 38, 'michael': 195, 'sheen': 279, 'polari': 232, 'voices': 348, 'pat': 217, 'truly': 335, 'seamless': 268, 'editing': 87, 'guided': 131, 'references': 251, 'williams': 356, 'diary': 73, 'entries': 92, 'worth': 366, 'terrificly': 319, 'written': 368, 'performed': 220, 'masterful': 187, 'great': 126, 'master': 186, 'comedy': 46, 'life': 168, 'really': 250, 'comes': 47, 'things': 324, 'fantasy': 103, 'guard': 129, 'traditional': 333, 'dream': 85, 'techniques': 316, 'remains': 254, 'solid': 290, 'disappears': 77, 'plays': 229, 'knowledge': 163, 'senses': 272, 'particularly': 216, 'concerning': 50, 'orton': 211, 'halliwell': 133, 'sets': 275, 'flat': 109, 'murals': 200, 'decorating': 67, 'surface': 309, 'terribly': 318, 'thought': 326, 'way': 353, 'spend': 293, 'hot': 140, 'summer': 307, 'weekend': 355, 'sitting': 284, 'air': 8, 'conditioned': 51, 'theater': 321, 'light': 169, 'plot': 230, 'simplistic': 283, 'dialogue': 72, 'witty': 359, 'characters': 36, 'likable': 170, 'bread': 27, 'suspected': 311, 'serial': 273, 'killer': 161, 'disappointed': 78, 'realize': 249, 'match': 188, 'point': 231, 'risk': 258, 'addiction': 4, 'proof': 242, 'woody': 362, 'allen': 10, 'fully': 115, 'control': 55, 'style': 303, 'grown': 128, 'love': 177, 'laughed': 166, 'comedies': 45, 'years': 369, 'decade': 64, 've': 343, 'impressed': 145, 'scarlet': 264, 'johanson': 156, 'managed': 184, 'tone': 330, 'sexy': 277, 'image': 143, 'jumped': 157, 'average': 17, 'spirited': 294, 'young': 371, 'woman': 360, 'crown': 58, 'jewel': 155, 'career': 31, 'wittier': 358, 'devil': 70, 'wears': 354, 'prada': 235, 'interesting': 150, 'superman': 308, 'friends': 112, 'basically': 20, 'family': 102, 'boy': 26, 'jake': 154, 'thinks': 325, 'zombie': 372, 'closet': 43, 'parents': 215, 'fighting': 106, 'movie': 198, 'slower': 287, 'soap': 288, 'opera': 209, 'suddenly': 306, 'decides': 66, 'rambo': 245, 'ok': 207, 'going': 122, 'make': 183, 'film': 107, 'decide': 65, 'thriller': 327, 'drama': 84, 'watchable': 350, 'divorcing': 81, 'arguing': 13, 'like': 171, 'real': 247, 'totally': 331, 'ruins': 261, 'expected': 95, 'boogeyman': 25, 'similar': 282, 'instead': 149, 'meaningless': 191, 'spots': 295, 'playing': 228, 'descent': 68, 'dialogs': 71, 'shots': 280, 'ignore': 142, 'petter': 222, 'mattei': 189, 'money': 197, 'visually': 346, 'stunning': 302, 'watch': 349, 'mr': 199, 'offers': 206, 'vivid': 347, 'portrait': 233, 'human': 141, 'relations': 253, 'telling': 317, 'power': 234, 'success': 305, 'people': 219, 'different': 74, 'situations': 285, 'encounter': 90, 'variation': 342, 'arthur': 14, 'schnitzler': 266, 'play': 227, 'theme': 322, 'director': 76, 'transfers': 334, 'action': 2, 'present': 236, 'new': 203, 'york': 370, 'meet': 192, 'connect': 52, 'connected': 53, 'person': 221, 'know': 162, 'previous': 238, 'contact': 54, 'stylishly': 304, 'sophisticated': 291, 'luxurious': 179, 'look': 176, 'taken': 312, 'live': 173, 'world': 365, 'habitat': 132, 'gets': 117, 'souls': 292, 'picture': 223, 'stages': 296, 'loneliness': 175, 'inhabits': 146, 'big': 23, 'best': 22, 'place': 226, 'fulfillment': 114, 'discerns': 79, 'case': 33, 'acting': 1, 'good': 123, 'direction': 75, 'steve': 299, 'buscemi': 29, 'rosario': 260, 'dawson': 61, 'carol': 32, 'kane': 159, 'imperioli': 144, 'adrian': 5, 'grenier': 127, 'rest': 255, 'talented': 313, 'cast': 34, 'come': 44, 'alive': 9, 'wish': 357, 'luck': 178, 'await': 18, 'anxiously': 11, 'work': 364}\n"
     ]
    }
   ],
   "source": [
    "from sklearn.feature_extraction.text import CountVectorizer\n",
    "\n",
    "# Define biased words to remove\n",
    "biased_words = ['worst', 'terrible', 'awful', 'horrible', 'disappointing']\n",
    "\n",
    "# Initialize CountVectorizer with stop words and biased words\n",
    "vectorizer = CountVectorizer(stop_words='english')\n",
    "\n",
    "# Fit the vectorizer to the data\n",
    "vectorizer.fit(data['review'])\n",
    "\n",
    "# Print the vocabulary dictionary\n",
    "print(vectorizer.vocabulary_)\n",
    "\n",
    "# Remove biased words from the vocabulary\n",
    "for word in biased_words:\n",
    "    if word in vectorizer.vocabulary_:\n",
    "        del vectorizer.vocabulary_[word]\n",
    "\n",
    "# Convert the text data to a sparse matrix\n",
    "sparse_matrix = vectorizer.transform(data['review'])\n"
   ]
  },
  {
   "cell_type": "code",
   "execution_count": 4,
   "id": "7a30dfbe",
   "metadata": {},
   "outputs": [],
   "source": [
    "# Split the dataset into training and testing sets\n",
    "X_train, X_test, y_train, y_test = train_test_split(sparse_matrix,data['sentiment'], test_size=0.2, random_state=42)\n",
    "\n"
   ]
  },
  {
   "cell_type": "code",
   "execution_count": 22,
   "id": "cb2d1aa5",
   "metadata": {},
   "outputs": [
    {
     "name": "stdout",
     "output_type": "stream",
     "text": [
      "Accuracy: 1.0\n"
     ]
    }
   ],
   "source": [
    "# DECISION TREE\n",
    "\n",
    "# Train the DECISION TREE model\n",
    "from sklearn import tree\n",
    "model = tree.DecisionTreeClassifier()\n",
    "model.fit(X_train, y_train)\n",
    "\n",
    "accuracy_decisionTree=model.score(X_train,y_train)\n",
    "print('Accuracy:', accuracy_decisionTree)\n",
    "\n",
    "\n",
    "# KNN\n",
    "\n",
    "# from sklearn.neighbors import KNeighborsClassifier\n",
    "# knn = KNeighborsClassifier(n_neighbors=10)\n",
    "\n",
    "# knn.fit(X_train, y_train)\n",
    "# accuracy_knn = knn.score(X_test, y_test)\n",
    "\n",
    "# print('Accuracy:', accuracy_knn)\n",
    "\n",
    "# LOGISTIC REGRESSION\n",
    "\n",
    "# from sklearn.linear_model import LogisticRegression\n",
    "\n",
    "# # Train the logistic regression model\n",
    "# model = LogisticRegression()\n",
    "# model.fit(X_train, y_train)\n",
    "\n",
    "# # Test the model\n",
    "# accuracy = model.score(X_test, y_test)\n",
    "# print('Accuracy:', accuracy)\n",
    "\n",
    "# NAIVE BAYES\n",
    "# from sklearn.naive_bayes import MultinomialNB\n",
    "\n",
    "# # Train the Naive Bayes model\n",
    "# model = MultinomialNB()\n",
    "# model.fit(X_train, y_train)\n",
    "\n",
    "# # Test the model\n",
    "# accuracy_naive = model.score(X_test, y_test)\n",
    "# print('Accuracy:', accuracy_naive)\n",
    "\n",
    "# SVM\n",
    "# from sklearn import svm\n",
    "\n",
    "# # Train the Naive Bayes model\n",
    "# model = svm.SVC(kernel='linear')\n",
    "# model.fit(X_train, y_train)\n",
    "\n",
    "#  # Test the model\n",
    "# accuracy_svm = model.score(X_test, y_test)\n",
    "# print('Accuracy:', accuracy_svm)\n"
   ]
  },
  {
   "cell_type": "code",
   "execution_count": null,
   "id": "95b9f98d",
   "metadata": {},
   "outputs": [],
   "source": []
  },
  {
   "cell_type": "code",
   "execution_count": 1,
   "id": "84fcfc59",
   "metadata": {},
   "outputs": [
    {
     "ename": "NameError",
     "evalue": "name 'X_train' is not defined",
     "output_type": "error",
     "traceback": [
      "\u001b[1;31m---------------------------------------------------------------------------\u001b[0m",
      "\u001b[1;31mNameError\u001b[0m                                 Traceback (most recent call last)",
      "\u001b[1;32m~\\AppData\\Local\\Temp\\ipykernel_1332\\74881927.py\u001b[0m in \u001b[0;36m<module>\u001b[1;34m\u001b[0m\n\u001b[0;32m      2\u001b[0m \u001b[0mknn\u001b[0m \u001b[1;33m=\u001b[0m \u001b[0mKNeighborsClassifier\u001b[0m\u001b[1;33m(\u001b[0m\u001b[0mn_neighbors\u001b[0m\u001b[1;33m=\u001b[0m\u001b[1;36m10\u001b[0m\u001b[1;33m)\u001b[0m\u001b[1;33m\u001b[0m\u001b[1;33m\u001b[0m\u001b[0m\n\u001b[0;32m      3\u001b[0m \u001b[1;33m\u001b[0m\u001b[0m\n\u001b[1;32m----> 4\u001b[1;33m \u001b[0mknn\u001b[0m\u001b[1;33m.\u001b[0m\u001b[0mfit\u001b[0m\u001b[1;33m(\u001b[0m\u001b[0mX_train\u001b[0m\u001b[1;33m,\u001b[0m \u001b[0my_train\u001b[0m\u001b[1;33m)\u001b[0m\u001b[1;33m\u001b[0m\u001b[1;33m\u001b[0m\u001b[0m\n\u001b[0m\u001b[0;32m      5\u001b[0m \u001b[0maccuracy_knn\u001b[0m \u001b[1;33m=\u001b[0m \u001b[0mknn\u001b[0m\u001b[1;33m.\u001b[0m\u001b[0mscore\u001b[0m\u001b[1;33m(\u001b[0m\u001b[0mx_test\u001b[0m\u001b[1;33m,\u001b[0m \u001b[0my_test\u001b[0m\u001b[1;33m)\u001b[0m\u001b[1;33m\u001b[0m\u001b[1;33m\u001b[0m\u001b[0m\n\u001b[0;32m      6\u001b[0m \u001b[1;33m\u001b[0m\u001b[0m\n",
      "\u001b[1;31mNameError\u001b[0m: name 'X_train' is not defined"
     ]
    }
   ],
   "source": []
  },
  {
   "cell_type": "code",
   "execution_count": null,
   "id": "81bfb72a",
   "metadata": {},
   "outputs": [],
   "source": []
  }
 ],
 "metadata": {
  "kernelspec": {
   "display_name": "Python 3 (ipykernel)",
   "language": "python",
   "name": "python3"
  },
  "language_info": {
   "codemirror_mode": {
    "name": "ipython",
    "version": 3
   },
   "file_extension": ".py",
   "mimetype": "text/x-python",
   "name": "python",
   "nbconvert_exporter": "python",
   "pygments_lexer": "ipython3",
   "version": "3.9.13"
  }
 },
 "nbformat": 4,
 "nbformat_minor": 5
}
